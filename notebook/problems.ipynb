{
    "cells": [
        {
            "cell_type": "markdown",
            "id": "ac622319",
            "metadata": {},
            "source": [
                "# Descriptive statistics problems"
            ]
        },
        {
            "cell_type": "markdown",
            "id": "5e0ab0d5",
            "metadata": {},
            "source": [
                "### Exercise 1\n",
                "\n",
                "We will use NumPy to obtain information to describe statistically.\n",
                "\n",
                "- Generate an array of 100 elements following a normal distribution.\n",
                "- Generate an array of 100 elements following a chi-square distribution with 3 degrees of freedom.\n",
                "- Calculate the main metrics and statistical measures that best describe the two vectors."
            ]
        },
        {
            "cell_type": "code",
            "execution_count": 47,
            "id": "34720ab6",
            "metadata": {},
            "outputs": [
                {
                    "name": "stdout",
                    "output_type": "stream",
                    "text": [
                        "[ 1.8503303   1.75070278 -0.02704058  1.75396232 -0.01750174  0.41766437\n",
                        "  0.61512371 -0.28513935 -0.48889716 -0.52724095 -0.45976911  0.8287645\n",
                        " -0.64622981 -0.77461107  0.49382723 -0.08336016  0.66612239  1.74178796\n",
                        "  0.59090712  1.55798442  1.14153938  0.74202509 -0.1370265  -0.41278687\n",
                        " -0.05711123  0.046918   -0.14061172 -0.3209827   1.72818724  0.49051816\n",
                        "  0.30686261 -1.23534965  0.19711921  2.25906763  0.21485789 -0.37071481\n",
                        "  1.17657504  1.5302721  -0.77774902  0.04075514 -0.35234091  1.49917672\n",
                        " -1.95108423  0.09484618 -0.10602851 -0.44401866 -0.06038326  0.60610964\n",
                        " -0.26153806  1.28148473  1.50541276 -1.22969085  1.4211194  -0.3908652\n",
                        " -0.03669567  0.73670027 -1.71672147  0.77769264 -1.5596697  -1.41586513\n",
                        " -1.17765269 -0.87929711 -1.36606961 -0.76240747  0.56023777 -1.1091901\n",
                        " -0.76720045 -0.99890204 -0.59282508  1.48416761  0.08852587  0.62417239\n",
                        "  1.35998443 -0.80103489 -1.45269485 -0.18995058  0.20520956 -0.02552634\n",
                        " -0.79391922 -1.41700376 -0.05818292 -0.91021841  0.98597461  1.16256175\n",
                        "  0.19031076  1.88753906  1.32862638  2.54496791 -0.86347117 -1.41554019\n",
                        "  0.10376245 -0.32987706 -0.44869002  0.08627599  0.86281825  0.22434567\n",
                        "  0.30245529  2.07776545  1.68156725 -0.29564757]\n",
                        "[ 2.94220586  4.50770313  1.3857711   0.69091081  1.86674667  1.56374516\n",
                        "  3.96933041  1.62896224  2.34782573  0.77518143  4.59963743  0.38127476\n",
                        "  2.9556161   0.63421519  4.40937211  1.44883223  2.5850872   1.4994673\n",
                        "  6.45549825  0.867627    8.22595856  1.10834745  4.304206    8.81269687\n",
                        "  4.92907867  5.45037785  1.63641788  3.23451606  1.93730751  9.14338624\n",
                        "  0.89307626  3.85664393  6.08559866  1.18976518  1.85468833  6.30742938\n",
                        "  1.35828551  5.69929048  1.24425047  3.99462385  1.13229081  7.96276869\n",
                        "  5.71940678  2.13312303  2.51094706  3.54308841  4.17994116  1.87453516\n",
                        "  2.41433615  4.23513879  6.11980888  5.62762346  2.10041353  1.74354816\n",
                        "  5.22081426  2.73967293  3.25262607  2.07659183  2.25885087  2.02979578\n",
                        "  1.870974    3.77521923  1.41300809  5.70482701  1.91340426 11.00212158\n",
                        "  1.22046663  4.94278484 16.8169725   0.73990209  8.78445713  3.00736245\n",
                        "  0.04603611  4.89181397  3.19484973  6.09543628  9.30092349  3.17801968\n",
                        "  4.06350614  3.82929766  1.34286819  0.91434542  1.27178213  0.41922896\n",
                        "  3.30071907  1.27804795  3.43288795  2.99423671  5.15412806  2.43031371\n",
                        "  3.7035615   1.13545245  1.91066903  2.15404875  3.41377348  7.21827507\n",
                        "  1.10311294  1.75025669  3.99981258  3.60239572]\n",
                        "El valor medio del array que sigue una distribución Normal es igual a  0.15.\n",
                        "La desviación típica del array que sigue una distribución Normal es igual a  1.01.\n",
                        "El valor medio del array que sigue una distribución Chi-2 con 3 grados de libertad es igual a  3.46.\n",
                        "La desviación típica del array que sigue una distribución Chi-2 con 3 grados de libertad es igual a  2.66.\n",
                        "Estadísticos principales para el el array que sigue una distribución Normal:\n",
                        "Media: 0.18\n",
                        "Desviación típica: 0.93\n",
                        "\n",
                        "Estadísticos principales para el array que sigue una distribución Chi-2 con 3 grados de libertad:\n",
                        "Media: 3.11\n",
                        "Desviación típica: 2.59\n"
                    ]
                }
            ],
            "source": [
                "import numpy as np \n",
                "import statistics as stats\n",
                "\n",
                "# Generar un array de 100 elementos siguiendo una distribución Normal (0,1)\n",
                "array_normal = np.random.randn(100)\n",
                "print(array_normal)\n",
                "\n",
                "# Generar un array de 100 elementos siguiendo una distribución Chi-2 con 3 grados de libertad\n",
                "array_chi2 = np.random.chisquare(3, 100)\n",
                "print(array_chi2)\n",
                "\n",
                "# Media y desviación típica (Forma 1)\n",
                "array_normal_mean = stats.mean(array_normal)\n",
                "print(f\"El valor medio del array que sigue una distribución Normal es igual a {array_normal_mean: .2f}.\")\n",
                "\n",
                "array_normal_sd = stats.stdev(array_normal)\n",
                "print(f\"La desviación típica del array que sigue una distribución Normal es igual a {array_normal_sd: .2f}.\")\n",
                "array_normal_sd\n",
                "\n",
                "array_chi2_mean = stats.mean(array_chi2)\n",
                "print(f\"El valor medio del array que sigue una distribución Chi-2 con 3 grados de libertad es igual a {array_chi2_mean: .2f}.\")\n",
                "\n",
                "array_chi2_sd = stats.stdev(array_chi2)\n",
                "print(f\"La desviación típica del array que sigue una distribución Chi-2 con 3 grados de libertad es igual a {array_chi2_sd: .2f}.\")\n",
                "array_normal_sd\n",
                "\n",
                "# Media y desviación típica (Forma 2)\n",
                "\n",
                "array_chi_squared = np.random.chisquare(3, 100)\n",
                "array_normal = np.random.randn(100)\n",
                "\n",
                "def estadisticos(vector):\n",
                "    parametro = {\n",
                "        'Media': stats.mean(vector),\n",
                "        'Desviación típica': stats.stdev(vector),\n",
                "    }\n",
                "    return parametro\n",
                "\n",
                "estadisticos_normal = estadisticos(array_normal)\n",
                "estadisticos_chi2 = estadisticos(array_chi_squared)\n",
                "\n",
                "print(\"Estadísticos principales para el el array que sigue una distribución Normal:\")\n",
                "for key, value in estadisticos_normal.items():\n",
                "    print(f\"{key}: {value:.2f}\")\n",
                "\n",
                "print(\"\\nEstadísticos principales para el array que sigue una distribución Chi-2 con 3 grados de libertad:\")\n",
                "for key, value in estadisticos_chi2.items():\n",
                "    print(f\"{key}: {value:.2f}\")\n",
                "\n"
            ]
        },
        {
            "cell_type": "markdown",
            "id": "46c70c3d",
            "metadata": {},
            "source": [
                "### Exercise 2\n",
                "\n",
                "Write a Python program to calculate the standard deviation of the following data:\n",
                "\n",
                "```py\n",
                "data = [4, 2, 5, 8, 6]\n",
                "```"
            ]
        },
        {
            "cell_type": "code",
            "execution_count": 52,
            "id": "d590308e",
            "metadata": {},
            "outputs": [
                {
                    "name": "stdout",
                    "output_type": "stream",
                    "text": [
                        "La desviación típica del conjunto de datos es igual a  2.24.\n"
                    ]
                }
            ],
            "source": [
                "import statistics as stats\n",
                "\n",
                "data = [4,2,5,8,6]\n",
                "sd_data = stats.stdev(data)\n",
                "print(f\"La desviación típica del conjunto de datos es igual a {sd_data: .2f}.\")"
            ]
        }
    ],
    "metadata": {
        "interpreter": {
            "hash": "9248718ffe6ce6938b217e69dbcc175ea21f4c6b28a317e96c05334edae734bb"
        },
        "kernelspec": {
            "display_name": "Python 3.9.12 ('ML-BOOTCAMP')",
            "language": "python",
            "name": "python3"
        },
        "language_info": {
            "codemirror_mode": {
                "name": "ipython",
                "version": 3
            },
            "file_extension": ".py",
            "mimetype": "text/x-python",
            "name": "python",
            "nbconvert_exporter": "python",
            "pygments_lexer": "ipython3",
            "version": "3.12.4"
        }
    },
    "nbformat": 4,
    "nbformat_minor": 5
}
